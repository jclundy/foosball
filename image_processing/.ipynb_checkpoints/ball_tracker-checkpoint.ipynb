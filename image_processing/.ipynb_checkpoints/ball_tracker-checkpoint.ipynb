{
 "cells": [
  {
   "cell_type": "code",
   "execution_count": 62,
   "metadata": {},
   "outputs": [],
   "source": [
    "import argparse\n",
    "import datetime\n",
    "import time\n",
    "import cv2\n",
    "import numpy as np\n",
    "import os\n",
    "\n",
    "import yaml"
   ]
  },
  {
   "cell_type": "code",
   "execution_count": 63,
   "metadata": {},
   "outputs": [],
   "source": [
    "filePath = \"/home/joe/Videos/Webcam/2022-04-20-210347.webm\"\n",
    "#filePath = \"/home/joe/Videos/foos_rectified2.avi\"\n",
    "camera = cv2.VideoCapture(filePath)"
   ]
  },
  {
   "cell_type": "code",
   "execution_count": 64,
   "metadata": {},
   "outputs": [],
   "source": [
    "pinkLower = (140, 10, 225)\n",
    "pinkUpper = (180, 118, 255)\n",
    "\n",
    "redLower = (17, 15, 100)\n",
    "redUpper = (50, 56, 200)\n",
    "\n",
    "upper = pinkUpper\n",
    "lower = redUpper"
   ]
  },
  {
   "cell_type": "code",
   "execution_count": 65,
   "metadata": {},
   "outputs": [],
   "source": [
    "(grabbed, frame) = camera.read()\n",
    "height, width = frame.shape[:2]\n",
    "w = width\n",
    "h = height\n",
    "\n"
   ]
  },
  {
   "cell_type": "code",
   "execution_count": 66,
   "metadata": {},
   "outputs": [],
   "source": [
    "calibrationFile = open('calibrations/calibration2.yaml', 'r')\n",
    "calibrationData = yaml.safe_load(calibrationFile)\n",
    "\n",
    "camera_matrix = calibrationData['camera_matrix']\n",
    "numColumns = camera_matrix['cols']\n",
    "numRows =  camera_matrix['rows']\n",
    "cameraMatrix = np.array(camera_matrix['data'])\n",
    "cameraMatrix = np.reshape(cameraMatrix, (numRows, numColumns))\n",
    "\n",
    "distortion_coefficients = calibrationData['distortion_coefficients']\n",
    "numColumns = distortion_coefficients['cols']\n",
    "numRows =  distortion_coefficients['rows']\n",
    "distortionCoefficients = np.array(distortion_coefficients['data'])\n",
    "#distortionCoefficients = np.reshape(distortionCoefficients, (numRows, numColumns))\n",
    "\n"
   ]
  },
  {
   "cell_type": "code",
   "execution_count": 67,
   "metadata": {},
   "outputs": [],
   "source": [
    "newcameramtx, roi=cv2.getOptimalNewCameraMatrix(cameraMatrix,distortionCoefficients,(w,h),1,(w,h))\n",
    "frame = cv2.undistort(frame, cameraMatrix, distortionCoefficients, None, newcameramtx) \n"
   ]
  },
  {
   "cell_type": "code",
   "execution_count": 68,
   "metadata": {},
   "outputs": [],
   "source": [
    "diagnosticFrame = frame.copy()"
   ]
  },
  {
   "cell_type": "code",
   "execution_count": 69,
   "metadata": {},
   "outputs": [],
   "source": [
    "markerLength = 0.02 #2cm, 0.02m\n",
    "distCoeffs = distortionCoefficients\n",
    "(rvecs, tvecs, points) = cv2.aruco.estimatePoseSingleMarkers(arucoCorners, markerLength, cameraMatrix, distCoeffs)"
   ]
  },
  {
   "cell_type": "code",
   "execution_count": 70,
   "metadata": {},
   "outputs": [],
   "source": [
    "arucoDict = cv2.aruco.getPredefinedDictionary(cv2.aruco.DICT_4X4_50)\n",
    "arucoParams = cv2.aruco.DetectorParameters_create()\n",
    "\n",
    "\n",
    "ballDetectionCorners = [(0,0), (0, height), (height,width), (0,width)]"
   ]
  },
  {
   "cell_type": "code",
   "execution_count": 71,
   "metadata": {},
   "outputs": [],
   "source": [
    "(arucoCorners, ids, rejected) = cv2.aruco.detectMarkers(frame, arucoDict, parameters=arucoParams)"
   ]
  },
  {
   "cell_type": "code",
   "execution_count": 72,
   "metadata": {},
   "outputs": [],
   "source": [
    "if(len(corners) > 0):\n",
    "\t\tids = ids.flatten()\n",
    "\n",
    "\t\tfor(markerCorner, markerID) in zip(arucoCorners, ids):\n",
    "\t\t\tcorners = markerCorner.reshape((4,2))\n",
    "\t\t\t(topLeft, topRight, bottomRight, bottomLeft) = corners\n",
    "\n",
    "\n",
    "\t\t\t# convert each of the (x, y)-coordinate pairs to integers\n",
    "\t\t\ttopRight = (int(topRight[0]), int(topRight[1]))\n",
    "\t\t\tbottomRight = (int(bottomRight[0]), int(bottomRight[1]))\n",
    "\t\t\tbottomLeft = (int(bottomLeft[0]), int(bottomLeft[1]))\n",
    "\t\t\ttopLeft = (int(topLeft[0]), int(topLeft[1]))\n",
    "\n",
    "\n",
    "\t\t\tcv2.line(diagnosticFrame, topLeft, topRight, (0, 255, 0), 2)\n",
    "\t\t\tcv2.line(diagnosticFrame, topRight, bottomRight, (0, 255, 0), 2)\n",
    "\t\t\tcv2.line(diagnosticFrame, bottomRight, bottomLeft, (0, 255, 0), 2)\n",
    "\t\t\tcv2.line(diagnosticFrame, bottomLeft, topLeft, (0, 255, 0), 2)\n",
    "\n",
    "\t\t\tif(markerID >= 0 and markerID <= 3):\n",
    "\t\t\t\tnewCorner = (0,0)\n",
    "\t\t\t\tif(markerID == 0):\n",
    "\t\t\t\t\tnewCorner = topRight\n",
    "\t\t\t\telif (markerID == 1):\n",
    "\t\t\t\t\tnewCorner = bottomRight\n",
    "\t\t\t\telif (markerID == 2):\n",
    "\t\t\t\t\tnewCorner = bottomLeft\n",
    "\t\t\t\telif (markerID == 3):\n",
    "\t\t\t\t\tnewCorner = topLeft\n",
    "\t\t\t\tballDetectionCorners[markerID] = newCorner"
   ]
  },
  {
   "cell_type": "code",
   "execution_count": 73,
   "metadata": {},
   "outputs": [
    {
     "data": {
      "text/plain": [
       "array([[[  0,   0,   0],\n",
       "        [  0,   0,   0],\n",
       "        [  0,   0,   0],\n",
       "        ...,\n",
       "        [  0,   0,   0],\n",
       "        [  0,   0,   0],\n",
       "        [  0,   0,   0]],\n",
       "\n",
       "       [[  0,   0,   0],\n",
       "        [  0,   0,   0],\n",
       "        [  0,   0,   0],\n",
       "        ...,\n",
       "        [  0,   0,   0],\n",
       "        [  0,   0,   0],\n",
       "        [  0,   0,   0]],\n",
       "\n",
       "       [[  0,   0,   0],\n",
       "        [  0,   0,   0],\n",
       "        [  0,   0,   0],\n",
       "        ...,\n",
       "        [  0,   0,   0],\n",
       "        [  0,   0,   0],\n",
       "        [  0,   0,   0]],\n",
       "\n",
       "       ...,\n",
       "\n",
       "       [[  0,   0,   0],\n",
       "        [  0,   0,   0],\n",
       "        [  0,   0,   0],\n",
       "        ...,\n",
       "        [127, 110, 107],\n",
       "        [130, 113, 110],\n",
       "        [ 95,  82,  80]],\n",
       "\n",
       "       [[  0,   0,   0],\n",
       "        [  0,   0,   0],\n",
       "        [  0,   0,   0],\n",
       "        ...,\n",
       "        [128, 111, 108],\n",
       "        [128, 111, 108],\n",
       "        [116, 101,  98]],\n",
       "\n",
       "       [[  0,   0,   0],\n",
       "        [  0,   0,   0],\n",
       "        [  0,   0,   0],\n",
       "        ...,\n",
       "        [ 36,  32,  31],\n",
       "        [ 56,  48,  47],\n",
       "        [ 78,  68,  66]]], dtype=uint8)"
      ]
     },
     "execution_count": 73,
     "metadata": {},
     "output_type": "execute_result"
    }
   ],
   "source": [
    "#draw bounding box\n",
    "boundingBoxPoints = np.array(ballDetectionCorners)\n",
    "boundingBoxPoints.reshape((-1,1,2))\n",
    "cv2.polylines(diagnosticFrame, [boundingBoxPoints], True, (255, 0, 0), 2)"
   ]
  },
  {
   "cell_type": "code",
   "execution_count": 74,
   "metadata": {},
   "outputs": [
    {
     "name": "stdout",
     "output_type": "stream",
     "text": [
      "[[[-0.3338827   2.1563622   0.53782758]]\n",
      "\n",
      " [[-0.10871929 -2.28937401 -0.25415476]]\n",
      "\n",
      " [[-0.06345309 -3.418767   -0.80476113]]\n",
      "\n",
      " [[-0.33436     2.97856354  1.25974796]]]\n"
     ]
    }
   ],
   "source": [
    "print(rvecs)"
   ]
  },
  {
   "cell_type": "code",
   "execution_count": 75,
   "metadata": {},
   "outputs": [
    {
     "name": "stdout",
     "output_type": "stream",
     "text": [
      "[[[-0.17281918  0.08475428  0.45686194]]\n",
      "\n",
      " [[ 0.10263449  0.10464303  0.61288178]]\n",
      "\n",
      " [[ 0.11785669 -0.12683149  0.74292171]]\n",
      "\n",
      " [[-0.1935039  -0.11223278  0.55939959]]]\n"
     ]
    }
   ],
   "source": [
    "print(tvecs)"
   ]
  },
  {
   "cell_type": "code",
   "execution_count": 76,
   "metadata": {},
   "outputs": [
    {
     "name": "stdout",
     "output_type": "stream",
     "text": [
      "[[[-0.01  0.01  0.  ]]\n",
      "\n",
      " [[ 0.01  0.01  0.  ]]\n",
      "\n",
      " [[ 0.01 -0.01  0.  ]]\n",
      "\n",
      " [[-0.01 -0.01  0.  ]]]\n"
     ]
    }
   ],
   "source": [
    "print(points)"
   ]
  },
  {
   "cell_type": "code",
   "execution_count": 77,
   "metadata": {},
   "outputs": [],
   "source": [
    "for rvec, tvec in zip(rvecs, tvecs):\n",
    "    diagnosticFrame = cv2.drawFrameAxes(diagnosticFrame, cameraMatrix, distCoeffs, rvec, tvec, 0.05)"
   ]
  },
  {
   "cell_type": "code",
   "execution_count": 78,
   "metadata": {},
   "outputs": [
    {
     "data": {
      "text/plain": [
       "True"
      ]
     },
     "execution_count": 78,
     "metadata": {},
     "output_type": "execute_result"
    }
   ],
   "source": [
    "cv2.imwrite(\"test_img4.png\", diagnosticFrame)"
   ]
  },
  {
   "cell_type": "code",
   "execution_count": null,
   "metadata": {},
   "outputs": [],
   "source": []
  }
 ],
 "metadata": {
  "kernelspec": {
   "display_name": "Python 3",
   "language": "python",
   "name": "python3"
  },
  "language_info": {
   "codemirror_mode": {
    "name": "ipython",
    "version": 3
   },
   "file_extension": ".py",
   "mimetype": "text/x-python",
   "name": "python",
   "nbconvert_exporter": "python",
   "pygments_lexer": "ipython3",
   "version": "3.6.10"
  }
 },
 "nbformat": 4,
 "nbformat_minor": 4
}
