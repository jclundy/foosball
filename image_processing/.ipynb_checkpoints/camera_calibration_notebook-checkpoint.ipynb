{
 "cells": [
  {
   "cell_type": "code",
   "execution_count": 1,
   "metadata": {},
   "outputs": [],
   "source": [
    "import numpy as np\n",
    "import cv2 as cv\n",
    "import glob"
   ]
  },
  {
   "cell_type": "code",
   "execution_count": 25,
   "metadata": {},
   "outputs": [],
   "source": [
    "criteria = (cv.TERM_CRITERIA_EPS + cv.TERM_CRITERIA_MAX_ITER, 30, 0.001)\n",
    "# prepare object points, like (0,0,0), (1,0,0), (2,0,0) ....,(6,5,0)\n",
    "objp = np.zeros((9*6,3), np.float32)\n",
    "objp[:,:2] = np.mgrid[0:9,0:6].T.reshape(-1,2)\n",
    "# Arrays to store object points and image points from all the images.\n",
    "objpoints = [] # 3d point in real world space\n",
    "imgpoints = [] # 2d points in image plane.\n",
    "images = glob.glob('*.jpg')\n"
   ]
  },
  {
   "cell_type": "code",
   "execution_count": 26,
   "metadata": {},
   "outputs": [],
   "source": [
    "path = \"/home/joe/Videos/Webcam/\"\n",
    "fileName = \"2022-05-04-214101.webm\"\n",
    "filePath = path + fileName\n",
    "capture = cv.VideoCapture(filePath)"
   ]
  },
  {
   "cell_type": "code",
   "execution_count": 27,
   "metadata": {},
   "outputs": [],
   "source": [
    "while(capture.isOpened()):\n",
    "\t(grabbed, img) = capture.read()\n",
    "\n",
    "\tif grabbed == True:\n",
    "\t\tgray = cv.cvtColor(img, cv.COLOR_BGR2GRAY)\n",
    "\t\t# Find the chess board corners\n",
    "\n",
    "\t\tret, corners = cv.findChessboardCorners(gray, (9,6), cv.CALIB_CB_FAST_CHECK)\n",
    "\t\t# If found, add object points, image points (after refining them)\n",
    "\t\tif ret == True:\n",
    "\t\t\tobjpoints.append(objp)\n",
    "\t\t\tcorners2 = cv.cornerSubPix(gray,corners, (11,11), (-1,-1), criteria)\n",
    "\t\t\t# Draw and display the corners\n",
    "\t\t\tcv.drawChessboardCorners(img, (9,6), corners2, ret)\n",
    "\t\t\timgpoints.append(corners2)\n",
    "\n",
    "\n",
    "\t\t#cv.imshow(\"gray\", gray)\n",
    "\t\t#cv.imshow('img', img)\n",
    "\n",
    "\t\t# Press Q on keyboard to  exit\n",
    "\t\tkey = cv.waitKey(10) & 0xFF\n",
    "\n",
    "\t\t# if the 'q' key is pressed, stop the loop\n",
    "\t\tif key == ord(\"q\"):\n",
    "\t\t\tbreak\n",
    "\telse:\n",
    "\t\tbreak\n",
    "\t\t\n",
    "capture.release()"
   ]
  },
  {
   "cell_type": "code",
   "execution_count": 28,
   "metadata": {},
   "outputs": [],
   "source": [
    "ret, mtx, dist, rvecs, tvecs = cv.calibrateCamera(objpoints, imgpoints, gray.shape[::-1], None, None)"
   ]
  },
  {
   "cell_type": "code",
   "execution_count": 29,
   "metadata": {},
   "outputs": [
    {
     "name": "stdout",
     "output_type": "stream",
     "text": [
      "0.9821617438924617\n"
     ]
    }
   ],
   "source": [
    "print(ret)"
   ]
  },
  {
   "cell_type": "code",
   "execution_count": 30,
   "metadata": {},
   "outputs": [
    {
     "name": "stdout",
     "output_type": "stream",
     "text": [
      "[[798.86256178   0.         401.52277111]\n",
      " [  0.         812.90563717 319.32828483]\n",
      " [  0.           0.           1.        ]]\n"
     ]
    }
   ],
   "source": [
    "print(mtx)"
   ]
  },
  {
   "cell_type": "code",
   "execution_count": 31,
   "metadata": {},
   "outputs": [
    {
     "name": "stdout",
     "output_type": "stream",
     "text": [
      "[[-3.51591693e-01  1.92604733e-01  3.20674878e-04  1.56190371e-04\n",
      "  -1.16111572e-01]]\n"
     ]
    }
   ],
   "source": [
    "print(dist)"
   ]
  },
  {
   "cell_type": "code",
   "execution_count": 34,
   "metadata": {},
   "outputs": [
    {
     "data": {
      "text/plain": [
       "(1752, 3, 1)"
      ]
     },
     "execution_count": 34,
     "metadata": {},
     "output_type": "execute_result"
    }
   ],
   "source": [
    "np.shape(rvecs)"
   ]
  },
  {
   "cell_type": "code",
   "execution_count": 35,
   "metadata": {},
   "outputs": [
    {
     "data": {
      "text/plain": [
       "(1752, 3, 1)"
      ]
     },
     "execution_count": 35,
     "metadata": {},
     "output_type": "execute_result"
    }
   ],
   "source": [
    "np.shape(tvecs)"
   ]
  },
  {
   "cell_type": "code",
   "execution_count": 36,
   "metadata": {},
   "outputs": [
    {
     "data": {
      "text/plain": [
       "(1752, 54, 1, 2)"
      ]
     },
     "execution_count": 36,
     "metadata": {},
     "output_type": "execute_result"
    }
   ],
   "source": [
    "np.shape(imgpoints)"
   ]
  },
  {
   "cell_type": "code",
   "execution_count": 12,
   "metadata": {},
   "outputs": [
    {
     "data": {
      "text/plain": [
       "False"
      ]
     },
     "execution_count": 12,
     "metadata": {},
     "output_type": "execute_result"
    }
   ],
   "source": [
    "capture.isOpened()\n"
   ]
  },
  {
   "cell_type": "code",
   "execution_count": 18,
   "metadata": {},
   "outputs": [
    {
     "name": "stdout",
     "output_type": "stream",
     "text": [
      "[[0. 0. 0.]\n",
      " [1. 0. 0.]\n",
      " [2. 0. 0.]\n",
      " [3. 0. 0.]\n",
      " [4. 0. 0.]\n",
      " [5. 0. 0.]\n",
      " [6. 0. 0.]\n",
      " [0. 1. 0.]\n",
      " [1. 1. 0.]\n",
      " [2. 1. 0.]\n",
      " [3. 1. 0.]\n",
      " [4. 1. 0.]\n",
      " [5. 1. 0.]\n",
      " [6. 1. 0.]\n",
      " [0. 2. 0.]\n",
      " [1. 2. 0.]\n",
      " [2. 2. 0.]\n",
      " [3. 2. 0.]\n",
      " [4. 2. 0.]\n",
      " [5. 2. 0.]\n",
      " [6. 2. 0.]\n",
      " [0. 3. 0.]\n",
      " [1. 3. 0.]\n",
      " [2. 3. 0.]\n",
      " [3. 3. 0.]\n",
      " [4. 3. 0.]\n",
      " [5. 3. 0.]\n",
      " [6. 3. 0.]\n",
      " [0. 4. 0.]\n",
      " [1. 4. 0.]\n",
      " [2. 4. 0.]\n",
      " [3. 4. 0.]\n",
      " [4. 4. 0.]\n",
      " [5. 4. 0.]\n",
      " [6. 4. 0.]\n",
      " [0. 5. 0.]\n",
      " [1. 5. 0.]\n",
      " [2. 5. 0.]\n",
      " [3. 5. 0.]\n",
      " [4. 5. 0.]\n",
      " [5. 5. 0.]\n",
      " [6. 5. 0.]]\n"
     ]
    }
   ],
   "source": [
    "print(objp)"
   ]
  },
  {
   "cell_type": "code",
   "execution_count": 19,
   "metadata": {},
   "outputs": [
    {
     "name": "stdout",
     "output_type": "stream",
     "text": [
      "[[[453.3572  318.88956]]\n",
      "\n",
      " [[436.55652 317.80707]]\n",
      "\n",
      " [[419.61777 316.77072]]\n",
      "\n",
      " [[402.60434 315.65845]]\n",
      "\n",
      " [[385.69437 314.63583]]\n",
      "\n",
      " [[369.01495 313.56836]]\n",
      "\n",
      " [[352.2621  312.61078]]\n",
      "\n",
      " [[335.48563 311.49918]]\n",
      "\n",
      " [[318.62506 310.5098 ]]\n",
      "\n",
      " [[454.58463 301.84848]]\n",
      "\n",
      " [[437.53345 300.68356]]\n",
      "\n",
      " [[420.66498 299.6309 ]]\n",
      "\n",
      " [[403.64438 298.51416]]\n",
      "\n",
      " [[386.759   297.55246]]\n",
      "\n",
      " [[369.75018 296.533  ]]\n",
      "\n",
      " [[353.04776 295.55334]]\n",
      "\n",
      " [[336.3618  294.5934 ]]\n",
      "\n",
      " [[319.41345 293.50772]]\n",
      "\n",
      " [[455.55753 284.77756]]\n",
      "\n",
      " [[438.66486 283.65512]]\n",
      "\n",
      " [[421.6503  282.50613]]\n",
      "\n",
      " [[404.592   281.54214]]\n",
      "\n",
      " [[387.5866  280.3865 ]]\n",
      "\n",
      " [[370.72357 279.4403 ]]\n",
      "\n",
      " [[353.9655  278.49347]]\n",
      "\n",
      " [[336.98538 277.55948]]\n",
      "\n",
      " [[320.13486 276.5658 ]]\n",
      "\n",
      " [[456.74503 267.73846]]\n",
      "\n",
      " [[439.67303 266.64597]]\n",
      "\n",
      " [[422.61365 265.53226]]\n",
      "\n",
      " [[405.56802 264.42224]]\n",
      "\n",
      " [[388.60425 263.3823 ]]\n",
      "\n",
      " [[371.6759  262.32214]]\n",
      "\n",
      " [[354.67105 261.3756 ]]\n",
      "\n",
      " [[337.69394 260.4294 ]]\n",
      "\n",
      " [[320.916   259.54547]]\n",
      "\n",
      " [[457.7155  250.30458]]\n",
      "\n",
      " [[440.8308  249.22173]]\n",
      "\n",
      " [[423.74863 248.08752]]\n",
      "\n",
      " [[406.60657 247.08063]]\n",
      "\n",
      " [[389.60974 246.0551 ]]\n",
      "\n",
      " [[372.5019  245.04256]]\n",
      "\n",
      " [[355.52124 244.02055]]\n",
      "\n",
      " [[338.62805 243.14088]]\n",
      "\n",
      " [[321.82407 241.96169]]\n",
      "\n",
      " [[458.7947  233.1201 ]]\n",
      "\n",
      " [[441.8369  231.74754]]\n",
      "\n",
      " [[424.6928  230.68987]]\n",
      "\n",
      " [[407.5385  229.60106]]\n",
      "\n",
      " [[390.5091  228.59018]]\n",
      "\n",
      " [[373.46097 227.58228]]\n",
      "\n",
      " [[356.54303 226.83305]]\n",
      "\n",
      " [[339.6377  225.93753]]\n",
      "\n",
      " [[322.67017 224.89272]]]\n",
      "[[[453.3572  318.88956]]\n",
      "\n",
      " [[436.55652 317.80707]]\n",
      "\n",
      " [[419.61777 316.77072]]\n",
      "\n",
      " [[402.60434 315.65845]]\n",
      "\n",
      " [[385.69437 314.63583]]\n",
      "\n",
      " [[369.01495 313.56836]]\n",
      "\n",
      " [[352.2621  312.61078]]\n",
      "\n",
      " [[335.48563 311.49918]]\n",
      "\n",
      " [[318.62506 310.5098 ]]\n",
      "\n",
      " [[454.58463 301.84848]]\n",
      "\n",
      " [[437.53345 300.68356]]\n",
      "\n",
      " [[420.66498 299.6309 ]]\n",
      "\n",
      " [[403.64438 298.51416]]\n",
      "\n",
      " [[386.759   297.55246]]\n",
      "\n",
      " [[369.75018 296.533  ]]\n",
      "\n",
      " [[353.04776 295.55334]]\n",
      "\n",
      " [[336.3618  294.5934 ]]\n",
      "\n",
      " [[319.41345 293.50772]]\n",
      "\n",
      " [[455.55753 284.77756]]\n",
      "\n",
      " [[438.66486 283.65512]]\n",
      "\n",
      " [[421.6503  282.50613]]\n",
      "\n",
      " [[404.592   281.54214]]\n",
      "\n",
      " [[387.5866  280.3865 ]]\n",
      "\n",
      " [[370.72357 279.4403 ]]\n",
      "\n",
      " [[353.9655  278.49347]]\n",
      "\n",
      " [[336.98538 277.55948]]\n",
      "\n",
      " [[320.13486 276.5658 ]]\n",
      "\n",
      " [[456.74503 267.73846]]\n",
      "\n",
      " [[439.67303 266.64597]]\n",
      "\n",
      " [[422.61365 265.53226]]\n",
      "\n",
      " [[405.56802 264.42224]]\n",
      "\n",
      " [[388.60425 263.3823 ]]\n",
      "\n",
      " [[371.6759  262.32214]]\n",
      "\n",
      " [[354.67105 261.3756 ]]\n",
      "\n",
      " [[337.69394 260.4294 ]]\n",
      "\n",
      " [[320.916   259.54547]]\n",
      "\n",
      " [[457.7155  250.30458]]\n",
      "\n",
      " [[440.8308  249.22173]]\n",
      "\n",
      " [[423.74863 248.08752]]\n",
      "\n",
      " [[406.60657 247.08063]]\n",
      "\n",
      " [[389.60974 246.0551 ]]\n",
      "\n",
      " [[372.5019  245.04256]]\n",
      "\n",
      " [[355.52124 244.02055]]\n",
      "\n",
      " [[338.62805 243.14088]]\n",
      "\n",
      " [[321.82407 241.96169]]\n",
      "\n",
      " [[458.7947  233.1201 ]]\n",
      "\n",
      " [[441.8369  231.74754]]\n",
      "\n",
      " [[424.6928  230.68987]]\n",
      "\n",
      " [[407.5385  229.60106]]\n",
      "\n",
      " [[390.5091  228.59018]]\n",
      "\n",
      " [[373.46097 227.58228]]\n",
      "\n",
      " [[356.54303 226.83305]]\n",
      "\n",
      " [[339.6377  225.93753]]\n",
      "\n",
      " [[322.67017 224.89272]]]\n"
     ]
    }
   ],
   "source": [
    "print(corners)\n",
    "print(corners2)"
   ]
  },
  {
   "cell_type": "code",
   "execution_count": 20,
   "metadata": {},
   "outputs": [
    {
     "data": {
      "text/plain": [
       "(42, 3)"
      ]
     },
     "execution_count": 20,
     "metadata": {},
     "output_type": "execute_result"
    }
   ],
   "source": [
    "np.shape(objp)"
   ]
  },
  {
   "cell_type": "code",
   "execution_count": 21,
   "metadata": {},
   "outputs": [
    {
     "data": {
      "text/plain": [
       "(800, 600)"
      ]
     },
     "execution_count": 21,
     "metadata": {},
     "output_type": "execute_result"
    }
   ],
   "source": [
    "gray.shape[::-1]"
   ]
  },
  {
   "cell_type": "code",
   "execution_count": 37,
   "metadata": {},
   "outputs": [],
   "source": [
    "capture = cv.VideoCapture(filePath)\n",
    "(grabbed, img) = capture.read()\n",
    "capture.release()\n",
    "\n"
   ]
  },
  {
   "cell_type": "code",
   "execution_count": 39,
   "metadata": {},
   "outputs": [],
   "source": [
    "h,  w = img.shape[:2]\n",
    "newcameramtx, roi=cv.getOptimalNewCameraMatrix(mtx,dist,(w,h),1,(w,h))\n",
    "\n",
    "# undistort\n",
    "dst = cv.undistort(img, mtx, dist, None, newcameramtx)\n"
   ]
  },
  {
   "cell_type": "code",
   "execution_count": 40,
   "metadata": {},
   "outputs": [
    {
     "ename": "NameError",
     "evalue": "name 'cv2' is not defined",
     "output_type": "error",
     "traceback": [
      "\u001b[0;31m---------------------------------------------------------------------------\u001b[0m",
      "\u001b[0;31mNameError\u001b[0m                                 Traceback (most recent call last)",
      "\u001b[0;32m<ipython-input-40-f19bd1370567>\u001b[0m in \u001b[0;36m<module>\u001b[0;34m\u001b[0m\n\u001b[1;32m      2\u001b[0m \u001b[0mx\u001b[0m\u001b[0;34m,\u001b[0m\u001b[0my\u001b[0m\u001b[0;34m,\u001b[0m\u001b[0mw\u001b[0m\u001b[0;34m,\u001b[0m\u001b[0mh\u001b[0m \u001b[0;34m=\u001b[0m \u001b[0mroi\u001b[0m\u001b[0;34m\u001b[0m\u001b[0;34m\u001b[0m\u001b[0m\n\u001b[1;32m      3\u001b[0m \u001b[0mdst\u001b[0m \u001b[0;34m=\u001b[0m \u001b[0mdst\u001b[0m\u001b[0;34m[\u001b[0m\u001b[0my\u001b[0m\u001b[0;34m:\u001b[0m\u001b[0my\u001b[0m\u001b[0;34m+\u001b[0m\u001b[0mh\u001b[0m\u001b[0;34m,\u001b[0m \u001b[0mx\u001b[0m\u001b[0;34m:\u001b[0m\u001b[0mx\u001b[0m\u001b[0;34m+\u001b[0m\u001b[0mw\u001b[0m\u001b[0;34m]\u001b[0m\u001b[0;34m\u001b[0m\u001b[0;34m\u001b[0m\u001b[0m\n\u001b[0;32m----> 4\u001b[0;31m \u001b[0mcv2\u001b[0m\u001b[0;34m.\u001b[0m\u001b[0mimwrite\u001b[0m\u001b[0;34m(\u001b[0m\u001b[0;34m'calibresult.png'\u001b[0m\u001b[0;34m,\u001b[0m\u001b[0mdst\u001b[0m\u001b[0;34m)\u001b[0m\u001b[0;34m\u001b[0m\u001b[0;34m\u001b[0m\u001b[0m\n\u001b[0m",
      "\u001b[0;31mNameError\u001b[0m: name 'cv2' is not defined"
     ]
    }
   ],
   "source": [
    "# crop the image\n",
    "x,y,w,h = roi\n",
    "dst = dst[y:y+h, x:x+w]\n",
    "cv.imwrite('calibresult.png',dst)"
   ]
  },
  {
   "cell_type": "code",
   "execution_count": null,
   "metadata": {},
   "outputs": [],
   "source": []
  }
 ],
 "metadata": {
  "kernelspec": {
   "display_name": "Python 3",
   "language": "python",
   "name": "python3"
  },
  "language_info": {
   "codemirror_mode": {
    "name": "ipython",
    "version": 3
   },
   "file_extension": ".py",
   "mimetype": "text/x-python",
   "name": "python",
   "nbconvert_exporter": "python",
   "pygments_lexer": "ipython3",
   "version": "3.6.10"
  }
 },
 "nbformat": 4,
 "nbformat_minor": 4
}
