{
 "cells": [
  {
   "cell_type": "code",
   "execution_count": 145,
   "metadata": {},
   "outputs": [],
   "source": [
    "import argparse\n",
    "import datetime\n",
    "import time\n",
    "import cv2\n",
    "import numpy as np\n",
    "import os\n",
    "\n",
    "import yaml"
   ]
  },
  {
   "cell_type": "code",
   "execution_count": 146,
   "metadata": {},
   "outputs": [],
   "source": [
    "#filePath = \"/home/joe/Videos/Webcam/2022-04-20-210347.webm\"\n",
    "filePath = \"/home/joe/Videos/foos_rectified2.avi\"\n",
    "camera = cv2.VideoCapture(filePath)"
   ]
  },
  {
   "cell_type": "code",
   "execution_count": 147,
   "metadata": {},
   "outputs": [],
   "source": [
    "pinkLower = (140, 10, 225)\n",
    "pinkUpper = (180, 118, 255)\n",
    "\n",
    "redLower = (17, 15, 100)\n",
    "redUpper = (50, 56, 200)\n",
    "\n",
    "upper = pinkUpper\n",
    "lower = redUpper"
   ]
  },
  {
   "cell_type": "code",
   "execution_count": 148,
   "metadata": {},
   "outputs": [],
   "source": [
    "(grabbed, frame) = camera.read()\n",
    "height, width = frame.shape[:2]\n",
    "w = width\n",
    "h = height\n",
    "\n"
   ]
  },
  {
   "cell_type": "code",
   "execution_count": 149,
   "metadata": {},
   "outputs": [],
   "source": [
    "calibrationFile = open('calibrations/calibration2.yaml', 'r')\n",
    "calibrationData = yaml.safe_load(calibrationFile)\n",
    "\n",
    "camera_matrix = calibrationData['camera_matrix']\n",
    "numColumns = camera_matrix['cols']\n",
    "numRows =  camera_matrix['rows']\n",
    "cameraMatrix = np.array(camera_matrix['data'])\n",
    "cameraMatrix = np.reshape(cameraMatrix, (numRows, numColumns))\n",
    "\n",
    "distortion_coefficients = calibrationData['distortion_coefficients']\n",
    "numColumns = distortion_coefficients['cols']\n",
    "numRows =  distortion_coefficients['rows']\n",
    "distortionCoefficients = np.array(distortion_coefficients['data'])\n",
    "#distortionCoefficients = np.reshape(distortionCoefficients, (numRows, numColumns))\n",
    "\n"
   ]
  },
  {
   "cell_type": "code",
   "execution_count": 150,
   "metadata": {},
   "outputs": [],
   "source": [
    "#newcameramtx, roi=cv2.getOptimalNewCameraMatrix(cameraMatrix,distortionCoefficients,(w,h),1,(w,h))\n",
    "#frame = cv2.undistort(frame, cameraMatrix, distortionCoefficients, None, newcameramtx) \n"
   ]
  },
  {
   "cell_type": "code",
   "execution_count": 151,
   "metadata": {},
   "outputs": [],
   "source": [
    "diagnosticFrame = frame.copy()"
   ]
  },
  {
   "cell_type": "code",
   "execution_count": 152,
   "metadata": {},
   "outputs": [],
   "source": [
    "markerLength = 0.02 #2cm, 0.02m\n",
    "distCoeffs = distortionCoefficients\n",
    "(rvecs, tvecs, points) = cv2.aruco.estimatePoseSingleMarkers(arucoCorners, markerLength, cameraMatrix, distCoeffs)"
   ]
  },
  {
   "cell_type": "code",
   "execution_count": 153,
   "metadata": {},
   "outputs": [],
   "source": [
    "arucoDict = cv2.aruco.getPredefinedDictionary(cv2.aruco.DICT_4X4_50)\n",
    "arucoParams = cv2.aruco.DetectorParameters_create()\n",
    "\n",
    "\n",
    "ballDetectionCorners = [(0,0), (0, height), (height,width), (0,width)]"
   ]
  },
  {
   "cell_type": "code",
   "execution_count": 154,
   "metadata": {},
   "outputs": [],
   "source": [
    "(arucoCorners, ids, rejected) = cv2.aruco.detectMarkers(frame, arucoDict, parameters=arucoParams)"
   ]
  },
  {
   "cell_type": "code",
   "execution_count": 155,
   "metadata": {},
   "outputs": [],
   "source": [
    "if(len(corners) > 0):\n",
    "\t\tids = ids.flatten()\n",
    "\n",
    "\t\tfor(markerCorner, markerID) in zip(arucoCorners, ids):\n",
    "\t\t\tcorners = markerCorner.reshape((4,2))\n",
    "\t\t\t(topLeft, topRight, bottomRight, bottomLeft) = corners\n",
    "\n",
    "\n",
    "\t\t\t# convert each of the (x, y)-coordinate pairs to integers\n",
    "\t\t\ttopRight = (int(topRight[0]), int(topRight[1]))\n",
    "\t\t\tbottomRight = (int(bottomRight[0]), int(bottomRight[1]))\n",
    "\t\t\tbottomLeft = (int(bottomLeft[0]), int(bottomLeft[1]))\n",
    "\t\t\ttopLeft = (int(topLeft[0]), int(topLeft[1]))\n",
    "\n",
    "\n",
    "\t\t\tcv2.line(diagnosticFrame, topLeft, topRight, (0, 255, 0), 2)\n",
    "\t\t\tcv2.line(diagnosticFrame, topRight, bottomRight, (0, 255, 0), 2)\n",
    "\t\t\tcv2.line(diagnosticFrame, bottomRight, bottomLeft, (0, 255, 0), 2)\n",
    "\t\t\tcv2.line(diagnosticFrame, bottomLeft, topLeft, (0, 255, 0), 2)\n",
    "\n",
    "\t\t\tif(markerID >= 0 and markerID <= 3):\n",
    "\t\t\t\tnewCorner = (0,0)\n",
    "\t\t\t\tif(markerID == 0):\n",
    "\t\t\t\t\tnewCorner = topRight\n",
    "\t\t\t\telif (markerID == 1):\n",
    "\t\t\t\t\tnewCorner = bottomRight\n",
    "\t\t\t\telif (markerID == 2):\n",
    "\t\t\t\t\tnewCorner = bottomLeft\n",
    "\t\t\t\telif (markerID == 3):\n",
    "\t\t\t\t\tnewCorner = topLeft\n",
    "\t\t\t\tballDetectionCorners[markerID] = newCorner"
   ]
  },
  {
   "cell_type": "code",
   "execution_count": 156,
   "metadata": {},
   "outputs": [
    {
     "data": {
      "text/plain": [
       "array([[[ 32,  18,   0],\n",
       "        [ 33,  19,   0],\n",
       "        [ 36,  22,   3],\n",
       "        ...,\n",
       "        [139, 139, 139],\n",
       "        [132, 132, 132],\n",
       "        [121, 121, 121]],\n",
       "\n",
       "       [[ 32,  18,   0],\n",
       "        [ 33,  19,   0],\n",
       "        [ 36,  22,   3],\n",
       "        ...,\n",
       "        [144, 144, 144],\n",
       "        [135, 135, 135],\n",
       "        [125, 125, 125]],\n",
       "\n",
       "       [[ 32,  18,   0],\n",
       "        [ 33,  19,   0],\n",
       "        [ 36,  22,   3],\n",
       "        ...,\n",
       "        [153, 153, 153],\n",
       "        [142, 142, 142],\n",
       "        [132, 132, 132]],\n",
       "\n",
       "       ...,\n",
       "\n",
       "       [[132, 102,  77],\n",
       "        [126,  96,  71],\n",
       "        [121,  91,  66],\n",
       "        ...,\n",
       "        [132, 115, 112],\n",
       "        [127, 110, 107],\n",
       "        [131, 114, 111]],\n",
       "\n",
       "       [[133, 103,  78],\n",
       "        [127,  97,  72],\n",
       "        [122,  92,  67],\n",
       "        ...,\n",
       "        [133, 116, 113],\n",
       "        [126, 109, 106],\n",
       "        [132, 115, 112]],\n",
       "\n",
       "       [[134, 104,  79],\n",
       "        [127,  97,  72],\n",
       "        [123,  93,  68],\n",
       "        ...,\n",
       "        [133, 116, 113],\n",
       "        [126, 109, 106],\n",
       "        [132, 115, 112]]], dtype=uint8)"
      ]
     },
     "execution_count": 156,
     "metadata": {},
     "output_type": "execute_result"
    }
   ],
   "source": [
    "#draw bounding box\n",
    "boundingBoxPoints = np.array(ballDetectionCorners)\n",
    "boundingBoxPoints.reshape((-1,1,2))\n",
    "cv2.polylines(diagnosticFrame, [boundingBoxPoints], True, (255, 0, 0), 2)"
   ]
  },
  {
   "cell_type": "code",
   "execution_count": 157,
   "metadata": {},
   "outputs": [
    {
     "name": "stdout",
     "output_type": "stream",
     "text": [
      "[[[-0.10706639 -2.24549753  0.13901433]]\n",
      "\n",
      " [[-0.07102491 -2.95078764  0.70873163]]\n",
      "\n",
      " [[ 0.00458704  2.99962231  0.35205048]]\n",
      "\n",
      " [[-0.14573697  3.12850815  0.33595288]]]\n"
     ]
    }
   ],
   "source": [
    "print(rvecs)"
   ]
  },
  {
   "cell_type": "code",
   "execution_count": 158,
   "metadata": {},
   "outputs": [
    {
     "name": "stdout",
     "output_type": "stream",
     "text": [
      "[[[ 0.13088898  0.12455239  0.43499299]]\n",
      "\n",
      " [[-0.21993868  0.11692066  0.40872502]]\n",
      "\n",
      " [[ 0.15010787 -0.14035634  0.51879189]]\n",
      "\n",
      " [[-0.23541319 -0.14070004  0.47387698]]]\n"
     ]
    }
   ],
   "source": [
    "print(tvecs)"
   ]
  },
  {
   "cell_type": "code",
   "execution_count": 159,
   "metadata": {},
   "outputs": [
    {
     "name": "stdout",
     "output_type": "stream",
     "text": [
      "[[[-0.01  0.01  0.  ]]\n",
      "\n",
      " [[ 0.01  0.01  0.  ]]\n",
      "\n",
      " [[ 0.01 -0.01  0.  ]]\n",
      "\n",
      " [[-0.01 -0.01  0.  ]]]\n"
     ]
    }
   ],
   "source": [
    "print(points)"
   ]
  },
  {
   "cell_type": "code",
   "execution_count": 160,
   "metadata": {},
   "outputs": [],
   "source": [
    "for rvec, tvec in zip(rvecs, tvecs):\n",
    "    diagnosticFrame = cv2.drawFrameAxes(diagnosticFrame, cameraMatrix, distCoeffs, rvec, tvec, 0.05)"
   ]
  },
  {
   "cell_type": "code",
   "execution_count": 161,
   "metadata": {},
   "outputs": [
    {
     "data": {
      "text/plain": [
       "True"
      ]
     },
     "execution_count": 161,
     "metadata": {},
     "output_type": "execute_result"
    }
   ],
   "source": [
    "cv2.imwrite(\"test_img7.png\", diagnosticFrame)"
   ]
  },
  {
   "cell_type": "code",
   "execution_count": 144,
   "metadata": {},
   "outputs": [],
   "source": [
    "camera.release()"
   ]
  },
  {
   "cell_type": "code",
   "execution_count": 127,
   "metadata": {},
   "outputs": [],
   "source": [
    "prev_t_vecs = tvecs\n",
    "prev_rvecs = rvecs"
   ]
  },
  {
   "cell_type": "code",
   "execution_count": null,
   "metadata": {},
   "outputs": [],
   "source": []
  }
 ],
 "metadata": {
  "kernelspec": {
   "display_name": "Python 3",
   "language": "python",
   "name": "python3"
  },
  "language_info": {
   "codemirror_mode": {
    "name": "ipython",
    "version": 3
   },
   "file_extension": ".py",
   "mimetype": "text/x-python",
   "name": "python",
   "nbconvert_exporter": "python",
   "pygments_lexer": "ipython3",
   "version": "3.6.10"
  }
 },
 "nbformat": 4,
 "nbformat_minor": 4
}
