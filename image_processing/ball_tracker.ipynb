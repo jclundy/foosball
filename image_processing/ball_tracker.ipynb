{
 "cells": [
  {
   "cell_type": "code",
   "execution_count": null,
   "metadata": {},
   "outputs": [],
   "source": [
    "import argparse\n",
    "import datetime\n",
    "import time\n",
    "import cv2\n",
    "import numpy as np\n",
    "import os\n",
    "import math\n",
    "import yaml"
   ]
  },
  {
   "cell_type": "code",
   "execution_count": null,
   "metadata": {},
   "outputs": [],
   "source": [
    "path = \"/home/joe/Videos/Webcam/\"\n",
    "fileName = \"2022-05-04-214101.webm\"\n",
    "filePath = path + fileName\n",
    "camera = cv2.VideoCapture(filePath)"
   ]
  },
  {
   "cell_type": "code",
   "execution_count": null,
   "metadata": {},
   "outputs": [],
   "source": [
    "pinkLower = (140, 10, 225)\n",
    "pinkUpper = (180, 118, 255)\n",
    "\n",
    "redLower = (17, 15, 100)\n",
    "redUpper = (50, 56, 200)\n",
    "\n",
    "upper = pinkUpper\n",
    "lower = redUpper"
   ]
  },
  {
   "cell_type": "code",
   "execution_count": null,
   "metadata": {},
   "outputs": [],
   "source": [
    "(grabbed, frame) = camera.read()\n",
    "height, width = frame.shape[:2]\n",
    "w = width\n",
    "h = height\n",
    "\n"
   ]
  },
  {
   "cell_type": "code",
   "execution_count": null,
   "metadata": {},
   "outputs": [],
   "source": [
    "\"\"\"\n",
    "calibrationFile = open('calibrations/calibration2.yaml', 'r')\n",
    "calibrationData = yaml.safe_load(calibrationFile)\n",
    "\n",
    "camera_matrix = calibrationData['camera_matrix']\n",
    "numColumns = camera_matrix['cols']\n",
    "numRows =  camera_matrix['rows']\n",
    "cameraMatrix = np.array(camera_matrix['data'])\n",
    "cameraMatrix = np.reshape(cameraMatrix, (numRows, numColumns))\n",
    "\n",
    "distortion_coefficients = calibrationData['distortion_coefficients']\n",
    "numColumns = distortion_coefficients['cols']\n",
    "numRows =  distortion_coefficients['rows']\n",
    "distortionCoefficients = np.array(distortion_coefficients['data'])\n",
    "#distortionCoefficients = np.reshape(distortionCoefficients, (numRows, numColumns))\n",
    "\"\"\"\n",
    "mtx = [[798.86256178, 0, 401.52277111], [ 0, 812.90563717,319.32828483], [  0, 0,1.]]\n",
    "cameraMatrix = np.reshape(mtx, (3, 3))\n",
    "dist = [-3.51591693e-01, 1.92604733e-01, 3.20674878e-04, 1.56190371e-04, -1.16111572e-01]\n",
    "\n",
    "distortionCoefficients = np.array(dist)\n",
    "\n"
   ]
  },
  {
   "cell_type": "code",
   "execution_count": null,
   "metadata": {},
   "outputs": [],
   "source": [
    "newcameramtx, roi=cv2.getOptimalNewCameraMatrix(cameraMatrix,distortionCoefficients,(w,h),1,(w,h))\n",
    "frame = cv2.undistort(frame, cameraMatrix, distortionCoefficients, None, newcameramtx) \n"
   ]
  },
  {
   "cell_type": "code",
   "execution_count": null,
   "metadata": {},
   "outputs": [],
   "source": [
    "diagnosticFrame = frame.copy()"
   ]
  },
  {
   "cell_type": "code",
   "execution_count": null,
   "metadata": {},
   "outputs": [],
   "source": [
    "arucoDict = cv2.aruco.getPredefinedDictionary(cv2.aruco.DICT_4X4_50)\n",
    "arucoParams = cv2.aruco.DetectorParameters_create()\n",
    "\n",
    "\n",
    "ballDetectionCorners = [(0,0), (0, height), (height,width), (0,width)]"
   ]
  },
  {
   "cell_type": "code",
   "execution_count": null,
   "metadata": {},
   "outputs": [],
   "source": [
    "(arucoCorners, ids, rejected) = cv2.aruco.detectMarkers(frame, arucoDict, parameters=arucoParams)"
   ]
  },
  {
   "cell_type": "code",
   "execution_count": null,
   "metadata": {},
   "outputs": [],
   "source": [
    "if(len(arucoCorners) > 0):\n",
    "\t\tids = ids.flatten()\n",
    "\n",
    "\t\tfor(markerCorner, markerID) in zip(arucoCorners, ids):\n",
    "\t\t\tcorners = markerCorner.reshape((4,2))\n",
    "\t\t\t(topLeft, topRight, bottomRight, bottomLeft) = corners\n",
    "\n",
    "\n",
    "\t\t\t# convert each of the (x, y)-coordinate pairs to integers\n",
    "\t\t\ttopRight = (int(topRight[0]), int(topRight[1]))\n",
    "\t\t\tbottomRight = (int(bottomRight[0]), int(bottomRight[1]))\n",
    "\t\t\tbottomLeft = (int(bottomLeft[0]), int(bottomLeft[1]))\n",
    "\t\t\ttopLeft = (int(topLeft[0]), int(topLeft[1]))\n",
    "\n",
    "\n",
    "\t\t\tcv2.line(diagnosticFrame, topLeft, topRight, (0, 255, 0), 2)\n",
    "\t\t\tcv2.line(diagnosticFrame, topRight, bottomRight, (0, 255, 0), 2)\n",
    "\t\t\tcv2.line(diagnosticFrame, bottomRight, bottomLeft, (0, 255, 0), 2)\n",
    "\t\t\tcv2.line(diagnosticFrame, bottomLeft, topLeft, (0, 255, 0), 2)\n",
    "\n",
    "\t\t\tif(markerID >= 0 and markerID <= 3):\n",
    "\t\t\t\tnewCorner = (0,0)\n",
    "\t\t\t\tif(markerID == 0):\n",
    "\t\t\t\t\tnewCorner = topRight\n",
    "\t\t\t\telif (markerID == 1):\n",
    "\t\t\t\t\tnewCorner = bottomRight\n",
    "\t\t\t\telif (markerID == 2):\n",
    "\t\t\t\t\tnewCorner = bottomLeft\n",
    "\t\t\t\telif (markerID == 3):\n",
    "\t\t\t\t\tnewCorner = topLeft\n",
    "\t\t\t\tballDetectionCorners[markerID] = newCorner"
   ]
  },
  {
   "cell_type": "code",
   "execution_count": null,
   "metadata": {},
   "outputs": [],
   "source": [
    "#draw bounding box\n",
    "boundingBoxPoints = np.array(ballDetectionCorners)\n",
    "boundingBoxPoints.reshape((-1,1,2))\n",
    "cv2.polylines(diagnosticFrame, [boundingBoxPoints], True, (255, 0, 0), 2)"
   ]
  },
  {
   "cell_type": "code",
   "execution_count": null,
   "metadata": {},
   "outputs": [],
   "source": [
    "markerLength = 0.02 #2cm, 0.02m\n",
    "distCoeffs = distortionCoefficients\n",
    "(rvecs, tvecs, points) = cv2.aruco.estimatePoseSingleMarkers(arucoCorners, markerLength, cameraMatrix, distCoeffs)"
   ]
  },
  {
   "cell_type": "code",
   "execution_count": null,
   "metadata": {},
   "outputs": [],
   "source": [
    "for rvec, tvec in zip(rvecs, tvecs):\n",
    "    diagnosticFrame = cv2.drawFrameAxes(diagnosticFrame, cameraMatrix, distCoeffs, rvec, tvec, 0.05)"
   ]
  },
  {
   "cell_type": "code",
   "execution_count": null,
   "metadata": {},
   "outputs": [],
   "source": [
    "cv2.imwrite(\"test_img9.png\", diagnosticFrame)"
   ]
  },
  {
   "cell_type": "code",
   "execution_count": null,
   "metadata": {},
   "outputs": [],
   "source": [
    "camera.release()"
   ]
  },
  {
   "cell_type": "code",
   "execution_count": null,
   "metadata": {},
   "outputs": [],
   "source": [
    "print(rvecs)"
   ]
  },
  {
   "cell_type": "code",
   "execution_count": null,
   "metadata": {},
   "outputs": [],
   "source": [
    "\n",
    "(retval, rvec, tvec) =  cv2.aruco.estimatePoseSingleMarkers(arucoCorners, markerLength, cameraMatrix, distCoeffs)"
   ]
  },
  {
   "cell_type": "code",
   "execution_count": null,
   "metadata": {},
   "outputs": [],
   "source": [
    "from inspect import getmembers, isfunction\n",
    "print(getmembers(cv2.aruco, isfunction))"
   ]
  },
  {
   "cell_type": "code",
   "execution_count": null,
   "metadata": {},
   "outputs": [],
   "source": [
    "print(arucoCorners)\n",
    "print(ids)"
   ]
  },
  {
   "cell_type": "code",
   "execution_count": null,
   "metadata": {},
   "outputs": [],
   "source": [
    "arucoMarker = arucoCorners[3].reshape((4,2))"
   ]
  },
  {
   "cell_type": "code",
   "execution_count": null,
   "metadata": {},
   "outputs": [],
   "source": [
    "print(arucoMarker)"
   ]
  },
  {
   "cell_type": "code",
   "execution_count": null,
   "metadata": {},
   "outputs": [],
   "source": [
    "topRight = arucoMarker[0]\n",
    "topLeft = arucoMarker[1]\n",
    "bottomLeft = arucoMarker[2]\n",
    "bottomRight = arucoMarker[3]\n",
    "\n",
    "pixelWidth = topRight[0] - topLeft[0]\n",
    "pixelHeight = topRight[1] - bottomRight[1]"
   ]
  },
  {
   "cell_type": "code",
   "execution_count": null,
   "metadata": {},
   "outputs": [],
   "source": [
    "print(pixelWidth)\n",
    "print(pixelHeight)"
   ]
  },
  {
   "cell_type": "code",
   "execution_count": null,
   "metadata": {},
   "outputs": [],
   "source": [
    "fx = cameraMatrix[0][0]\n",
    "fy = cameraMatrix[1][1]\n",
    "\n",
    "cx = cameraMatrix[0][2]\n",
    "cy = cameraMatrix[1][2]"
   ]
  },
  {
   "cell_type": "code",
   "execution_count": null,
   "metadata": {},
   "outputs": [],
   "source": [
    "print(fx,fy,cx,cy)\n",
    "print(cameraMatrix)"
   ]
  },
  {
   "cell_type": "code",
   "execution_count": null,
   "metadata": {},
   "outputs": [],
   "source": [
    "knownLen = 0.02 #m\n",
    "W_obj = knownLen\n",
    "distance_from_dx = fx * W_obj / pixelWidth * 100 #cm\n",
    "\n",
    "H_obj = knownLen\n",
    "distance_from_dy = fy * H_obj / pixelHeight * 100 #cm\n"
   ]
  },
  {
   "cell_type": "code",
   "execution_count": null,
   "metadata": {},
   "outputs": [],
   "source": [
    "print(\"distance from dx (cm)\", distance_from_dx)\n",
    "print(\"distance from dy (cm)\", distance_from_dy)"
   ]
  },
  {
   "cell_type": "code",
   "execution_count": null,
   "metadata": {},
   "outputs": [],
   "source": [
    "#manual estimation of focal length\n",
    "\n",
    "knownDistance = 0.46 #m\n",
    "Z_obj = knownDistance\n",
    "\n",
    "fx_est = pixelWidth * Z_obj / W_obj\n",
    "\n",
    "fy_est = pixelHeight * Z_obj / H_obj\n",
    "\n"
   ]
  },
  {
   "cell_type": "code",
   "execution_count": null,
   "metadata": {},
   "outputs": [],
   "source": [
    "print(\"fx_est\", fx_est)\n",
    "print(\"fy_est\", fy_est)"
   ]
  },
  {
   "cell_type": "code",
   "execution_count": null,
   "metadata": {},
   "outputs": [],
   "source": [
    "estimatedFocalLengths = []\n",
    "estimatedDistances = []\n",
    "\n",
    "for markerCorner in arucoCorners:\n",
    "    corners = markerCorner.reshape((4,2))\n",
    "    (topRight, topLeft, bottomLeft, bottomRight) = corners\n",
    "\n",
    "    pixelWidth = topRight[0] - topLeft[0]\n",
    "    pixelHeight = topRight[1] - bottomRight[1]\n",
    "\n",
    "    fx_est = pixelWidth * Z_obj / W_obj\n",
    "    fy_est = pixelHeight * Z_obj / H_obj\n",
    "    estimatedFocalLengths.append((fx_est, fy_est))\n",
    "    \n",
    "    distance_from_dx = fx * W_obj / pixelWidth * 100 #cm\n",
    "    distance_from_dy = fy * H_obj / pixelHeight * 100 #cm\n",
    "    \n",
    "    estimatedDistances.append((distance_from_dx, distance_from_dy))"
   ]
  },
  {
   "cell_type": "code",
   "execution_count": null,
   "metadata": {},
   "outputs": [],
   "source": [
    "print(estimatedFocalLengths)"
   ]
  },
  {
   "cell_type": "code",
   "execution_count": null,
   "metadata": {},
   "outputs": [],
   "source": [
    "print(estimatedDistances)"
   ]
  },
  {
   "cell_type": "code",
   "execution_count": null,
   "metadata": {},
   "outputs": [],
   "source": [
    "#height between top of marker 0 and bottom marker 1\n",
    "\n",
    "H_m0_m1 = 0.28 #0.28 m or 28 cm\n",
    "distance = knownDistance\n",
    "\n",
    "marker0 = arucoCorners[1].reshape((4,2))\n",
    "(m0_topLeft, m0_topRight, m0_bottomRight, m0_bottomleft) = marker0\n",
    "\n",
    "marker1 = arucoCorners[3].reshape((4,2))\n",
    "(m1_topLeft, m1_topRight, m1_bottomRight, m1_bottomleft) = marker1\n",
    "\n",
    "pixelHeight = m0_bottomLeft[1] - m1_topLeft[1]\n",
    "\n",
    "apparentHeight_0 = distance * pixelHeight /  fy\n",
    "apparentHeight_1 = distance * pixelHeight /  estimatedFocalLengths[0][1]\n",
    "\n",
    "print(apparentHeight_0, apparentHeight_1)"
   ]
  },
  {
   "cell_type": "code",
   "execution_count": null,
   "metadata": {},
   "outputs": [],
   "source": [
    "z0 = estimatedDistances[1][0]\n",
    "z1 = estimatedDistances[3][0]\n",
    "\n",
    "delta_z = abs(z0 - z1)\n",
    "\n",
    "print(z0, z1, delta_z)"
   ]
  },
  {
   "cell_type": "code",
   "execution_count": null,
   "metadata": {},
   "outputs": [],
   "source": [
    "theta0 = math.atan2(apparentHeight_0, delta_z) * 180/math.pi\n",
    "\n",
    "theta1 = math.atan2(apparentHeight_1, delta_z) * 180/math.pi\n",
    "\n",
    "print(theta0, theta1)"
   ]
  },
  {
   "cell_type": "code",
   "execution_count": null,
   "metadata": {},
   "outputs": [],
   "source": [
    "h = H_m0_m1\n",
    "a0 = apparentHeight_0\n",
    "\n",
    "theta2 = math.acos(a0/h) * 180/math.pi\n",
    "\n",
    "a1 = apparentHeight_1\n",
    "theta3 = math.acos(a1/h) * 180/math.pi\n",
    "\n",
    "print(theta2, theta3)"
   ]
  },
  {
   "cell_type": "code",
   "execution_count": null,
   "metadata": {},
   "outputs": [],
   "source": [
    "\n",
    "bl = np.int32(arucoCorners[0].reshape((4,2))[1])\n",
    "bl = tuple(bl)\n",
    "                             \n",
    "br = np.int32(arucoCorners[1].reshape((4,2))[0])\n",
    "br = tuple(br)\n",
    "\n",
    "tl = np.int32(arucoCorners[2].reshape((4,2))[2])\n",
    "tl = tuple(tl)\n",
    "\n",
    "tr = np.int32(arucoCorners[3].reshape((4,2))[3])\n",
    "tr = tuple(tr)\n",
    "\n",
    "pointsBefore = [tl, tr, br, bl]\n",
    "\n",
    "print(\"tl, tr, br, bl\")\n",
    "print(pointsBefore)\n",
    "print(ids)"
   ]
  },
  {
   "cell_type": "code",
   "execution_count": null,
   "metadata": {},
   "outputs": [],
   "source": [
    "pixelWidth1 = np.abs(tl[0] - tr[0])\n",
    "pixelWidth2 = np.abs(bl[0] - br[0])\n",
    "\n",
    "\n",
    "pixelHeight1 = np.abs(tl[1] - bl[1])\n",
    "pixelHeight2 = np.abs(br[1] - tr[1])\n",
    "\n",
    "print(pixelWidth1, pixelWidth2, pixelHeight1, pixelHeight2)"
   ]
  },
  {
   "cell_type": "code",
   "execution_count": null,
   "metadata": {},
   "outputs": [],
   "source": [
    "#newWidth = max(pixelWidth1, pixelWidth2)\n",
    "#newHeight = max(pixelHeight1, pixelHeight2)\n",
    "\n",
    "newWidth = 800\n",
    "newHeight = 600"
   ]
  },
  {
   "cell_type": "code",
   "execution_count": null,
   "metadata": {},
   "outputs": [],
   "source": [
    "#tl, tr, br, bl\n",
    "newCoordinates = [(0,0), (newWidth, 0), (newWidth, newHeight), (0, newHeight)]\n",
    "print(newCoordinates)\n",
    "\n",
    "pointsBefore = np.float32(pointsBefore)\n",
    "newCoordinates = np.float32(newCoordinates)"
   ]
  },
  {
   "cell_type": "code",
   "execution_count": null,
   "metadata": {},
   "outputs": [],
   "source": [
    "print(\"pointsBefore\", pointsBefore)\n",
    "print(\"newCoordinates\", newCoordinates)"
   ]
  },
  {
   "cell_type": "code",
   "execution_count": null,
   "metadata": {},
   "outputs": [],
   "source": [
    "M = cv2.getPerspectiveTransform(pointsBefore,newCoordinates)"
   ]
  },
  {
   "cell_type": "code",
   "execution_count": null,
   "metadata": {},
   "outputs": [],
   "source": [
    "boardImg = cv2.warpPerspective(frame, M, (int(newWidth), int(newHeight)))\n",
    "cv2.imwrite(\"boardImg.png\", boardImg)\n",
    "\n",
    "\n",
    "radius = 5\n",
    "newFrame = frame.copy()\n",
    "cv2.circle(newFrame, (int(tl[0]), int(tl[1])), int(radius), (0, 255, 255), 2)\n",
    "cv2.circle(newFrame, (int(bl[0]), int(bl[1])), int(radius), (0, 255, 255), 2)\n",
    "cv2.circle(newFrame, (int(tr[0]), int(tr[1])), int(radius), (0, 255, 255), 2)\n",
    "cv2.circle(newFrame, (int(br[0]), int(br[1])), int(radius), (0, 255, 255), 2)\n",
    "cv2.imwrite(\"diagnosticFrame.png\", newFrame)"
   ]
  },
  {
   "cell_type": "code",
   "execution_count": null,
   "metadata": {},
   "outputs": [],
   "source": [
    "print((newWidth, newHeight))"
   ]
  },
  {
   "cell_type": "code",
   "execution_count": null,
   "metadata": {},
   "outputs": [],
   "source": [
    "print(np.shape(boardImg))"
   ]
  },
  {
   "cell_type": "code",
   "execution_count": null,
   "metadata": {},
   "outputs": [],
   "source": [
    "print(np.shape(diagnosticFrame))"
   ]
  },
  {
   "cell_type": "code",
   "execution_count": null,
   "metadata": {},
   "outputs": [],
   "source": [
    "print(M)"
   ]
  },
  {
   "cell_type": "code",
   "execution_count": null,
   "metadata": {},
   "outputs": [],
   "source": []
  }
 ],
 "metadata": {
  "kernelspec": {
   "display_name": "Python 3",
   "language": "python",
   "name": "python3"
  },
  "language_info": {
   "codemirror_mode": {
    "name": "ipython",
    "version": 3
   },
   "file_extension": ".py",
   "mimetype": "text/x-python",
   "name": "python",
   "nbconvert_exporter": "python",
   "pygments_lexer": "ipython3",
   "version": "3.8.10"
  }
 },
 "nbformat": 4,
 "nbformat_minor": 4
}
